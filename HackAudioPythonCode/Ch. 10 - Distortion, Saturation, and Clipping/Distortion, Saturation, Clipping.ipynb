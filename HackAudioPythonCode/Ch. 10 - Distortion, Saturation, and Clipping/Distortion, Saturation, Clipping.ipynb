{
 "cells": [
  {
   "cell_type": "code",
   "execution_count": 51,
   "metadata": {
    "collapsed": true
   },
   "outputs": [],
   "source": [
    "import matplotlib.pyplot as plt\n",
    "import numpy as np\n",
    "import soundfile\n",
    "from IPython.display import Audio"
   ]
  },
  {
   "cell_type": "code",
   "execution_count": 32,
   "outputs": [],
   "source": [
    "# INFINITECLIP\n",
    "# This function implements infinite clipping distortion. Amplitude values\n",
    "# of the input signal that are positive are changed to 1 in the output signal.\n",
    "# Amplitude values of the input signal that are negative are changed to -1 in\n",
    "# the output signal.\n",
    "#\n",
    "# See also HARDCLIP, DISTORTIONEXAMPLE\n",
    "\n",
    "def infiniteClip(x):\n",
    "    N = len(x)\n",
    "    y = np.zeros([N, 1])\n",
    "\n",
    "    for n in range(N):\n",
    "        # Change all amplitude values to +1 or -1 (FS amplitude)\n",
    "        # 'Pin the Rails' (description in audio electronics)\n",
    "        if x[n] >= 0:\n",
    "            # If positive, assign output = 1\n",
    "            y[n] = 1\n",
    "\n",
    "        else:\n",
    "            # If negative, assign output = -1\n",
    "            y[n] = -1\n",
    "\n",
    "    return y"
   ],
   "metadata": {
    "collapsed": false,
    "pycharm": {
     "name": "#%%\n"
    }
   }
  },
  {
   "cell_type": "code",
   "execution_count": 4,
   "outputs": [],
   "source": [
    "# HALFWAVERECTIFICATION\n",
    "# This function implements half-wave rectification distortion. Amplitude values\n",
    "# of the input signal that are negative are changed to zero in the output signal.\n",
    "#\n",
    "# See also FULLWAVERECTIFICATION, DISTORTIONEXAMPLE\n",
    "\n",
    "def halfWaveRectification(x):\n",
    "    N = len(x)\n",
    "    y = np.zeros([N, 1])\n",
    "\n",
    "    for n in range(N):\n",
    "        if x[n] >= 0:\n",
    "            # If positive, assign input to output\n",
    "            y[n] = x[n]\n",
    "\n",
    "        else:\n",
    "            # If negative, set output to zero\n",
    "            y[n] = 0\n",
    "\n",
    "    return y"
   ],
   "metadata": {
    "collapsed": false,
    "pycharm": {
     "name": "#%%\n"
    }
   }
  },
  {
   "cell_type": "code",
   "execution_count": 7,
   "outputs": [],
   "source": [
    "# FULLWAVERECTIFICATION\n",
    "# This function implements full-wave rectification distortion. Amplitude values\n",
    "# of the input signal that are negative are changed to positive in the output\n",
    "# signal.\n",
    "#\n",
    "# See also HALFWAVERECTIFICATION, DISTORTIONEXAMPLE\n",
    "\n",
    "def fullWaveRectification(x):\n",
    "    N = len(x)\n",
    "    y = np.zeros([N, 1])\n",
    "\n",
    "    for n in range(N):\n",
    "        if x[n] >= 0:\n",
    "            # If positive, assign input to output\n",
    "            y[n] = x[n]\n",
    "\n",
    "        else:\n",
    "            # If negative, flip input\n",
    "            y[n] = (-1) * x[n]\n",
    "\n",
    "    return y"
   ],
   "metadata": {
    "collapsed": false,
    "pycharm": {
     "name": "#%%\n"
    }
   }
  },
  {
   "cell_type": "code",
   "execution_count": 8,
   "outputs": [],
   "source": [
    "# HARDCLIP\n",
    "# This function implements hard-clipping distortion. Amplitude values of the\n",
    "# input signal that are greater than a threshold are clipped.\n",
    "#\n",
    "# Input variables\n",
    "#   x: signal to be processed\n",
    "#   thresh: maximum amplitude where clipping occurs\n",
    "#\n",
    "# See also INFINITECLIP, PIECEWISE, DISTORTIONEXAMPLE\n",
    "\n",
    "def hardClipping(x, thresh):\n",
    "    N = len(x)\n",
    "    y = np.zeros([N, 1])\n",
    "\n",
    "    for n in range(N):\n",
    "        if x[n] >= thresh:\n",
    "            # If true, assign input = thresh\n",
    "            y[n] = thresh\n",
    "\n",
    "        elif x[n] <= -thresh:\n",
    "            # If true, set output = -thresh\n",
    "            y[n] = -thresh\n",
    "\n",
    "        else:\n",
    "            y[n] = x[n]\n",
    "\n",
    "    return y"
   ],
   "metadata": {
    "collapsed": false,
    "pycharm": {
     "name": "#%%\n"
    }
   }
  },
  {
   "cell_type": "code",
   "execution_count": 9,
   "outputs": [],
   "source": [
    "# CUBICDISTORTION\n",
    "# This function implements cubic soft-clipping distortion. An input parameter\n",
    "# 'a' is used to control the amount of distortion applied to the input\n",
    "# signal.\n",
    "#\n",
    "# Input variables\n",
    "#   x: input signal\n",
    "#   a: drive amount (0-1), amplitude of 3rd harmonic\n",
    "#\n",
    "# See also ARCTANDISTORTION, DISTORTIONEXAMPLE\n",
    "\n",
    "def cubicDistortion(x, a):\n",
    "    N = len(x)\n",
    "    y = np.zeros([N, 1])\n",
    "\n",
    "    for n in range(N):\n",
    "        y[n] = x[n] - (a * (1/3) * pow(x[n], 3))\n",
    "\n",
    "    return y"
   ],
   "metadata": {
    "collapsed": false,
    "pycharm": {
     "name": "#%%\n"
    }
   }
  },
  {
   "cell_type": "code",
   "execution_count": 10,
   "outputs": [],
   "source": [
    "# ARCTANDISTORTION\n",
    "# This function implements arctangent soft-clipping distortion. An input\n",
    "# parameter 'alpha' is used to control the amount of distortion applied to\n",
    "# the input signal.\n",
    "#\n",
    "# Input variables\n",
    "#   x: input signal\n",
    "#   alpha: drive amount (1-10)\n",
    "#\n",
    "# See also CUBICDISTORTION, DISTORTIONEXAMPLE\n",
    "\n",
    "def arctanDistortion(x, alpha):\n",
    "    N = len(x)\n",
    "    y = np.zeros([N, 1])\n",
    "\n",
    "    for n in range(N):\n",
    "        y[n] = (2/np.pi) * np.arctan(x[n] * alpha)\n",
    "    return y"
   ],
   "metadata": {
    "collapsed": false,
    "pycharm": {
     "name": "#%%\n"
    }
   }
  },
  {
   "cell_type": "code",
   "execution_count": 11,
   "outputs": [],
   "source": [
    "# EXPONENTIAL\n",
    "# This function implements exponential soft-clipping distortion. An input\n",
    "# parameter 'drive' is used to control the amount of distortion applied to\n",
    "# the input signal.\n",
    "#\n",
    "# Input variables\n",
    "#   x: input signal\n",
    "#   drive: drive amount (1-10)\n",
    "#\n",
    "# See also CUBICDISTORTION, ARCTANDISTORTION, DISTORTIONEXAMPLE\n",
    "\n",
    "def exponential(x, drive):\n",
    "    N = len(x)\n",
    "    y = np.zeros([N, 1])\n",
    "\n",
    "    for n in range(N):\n",
    "        y[n] = np.sign(x[n]) * (1 - np.exp(-np.abs(drive * x[n])))\n",
    "    return y"
   ],
   "metadata": {
    "collapsed": false,
    "pycharm": {
     "name": "#%%\n"
    }
   }
  },
  {
   "cell_type": "code",
   "execution_count": 34,
   "outputs": [],
   "source": [
    "# PIECEWISE\n",
    "# This function implements a piece-wise distortion algorithm. Within one\n",
    "# operating region, the input signal is not distorted. When the signal is\n",
    "# outside of that operating region, it is clipped.\n",
    "#\n",
    "# See also HARDCLIP, DISTORTIONEXAMPLE\n",
    "\n",
    "def piecewise(x):\n",
    "    N = len(x)\n",
    "    y = np.zeros([N, 1])\n",
    "\n",
    "    for n in range(N):\n",
    "        if np.abs(x[n]) <= 1/3:\n",
    "            y[n] = 2 * x[n]\n",
    "        elif np.abs(x[n]) > 2/3:\n",
    "            y[n] = np.sign(x[n])\n",
    "        else:\n",
    "            y[n] = (np.sign(x[n])) * (pow((3 - (2 - 3 * abs(x[n]))), 2)/3)\n",
    "\n",
    "    return y\n"
   ],
   "metadata": {
    "collapsed": false,
    "pycharm": {
     "name": "#%%\n"
    }
   }
  },
  {
   "cell_type": "code",
   "execution_count": 13,
   "outputs": [],
   "source": [
    "# DIODE\n",
    "# This function implements the Shockley ideal diode equation for audio signals\n",
    "# with an amplitude between -1 and 1 FS.\n",
    "#\n",
    "# See also ASYMMETRICAL, DISTORTIONEXAMPLE\n",
    "\n",
    "def diode(x):\n",
    "    # Diode Characteristics\n",
    "    Vt = 0.0253 # thermal voltage\n",
    "    eta = 1.68 # emission coefficient\n",
    "    Is = 0.105 # saturation current\n",
    "\n",
    "    N = len(x)\n",
    "    y = np.zeros([N, 1])\n",
    "\n",
    "    for n in range(N):\n",
    "        y[n] = Is * (np.exp(0.1 * x[n]/(eta * Vt)) - 1)\n",
    "\n",
    "    return y"
   ],
   "metadata": {
    "collapsed": false,
    "pycharm": {
     "name": "#%%\n"
    }
   }
  },
  {
   "cell_type": "code",
   "execution_count": 43,
   "outputs": [],
   "source": [
    "# BITREDUCT\n",
    "# This function creates a bit reduction or bit crushing distortion. It uses\n",
    "# an input variable, 'nBits', to determine the number of amplitude values\n",
    "# in the output signal. This algorithm can have a fractional number of bits,\n",
    "# similar to the processing found in some audio plug-ins.\n",
    "#\n",
    "# Input variables\n",
    "#   x: input signal\n",
    "#   nBits: scalar for the number of desired bits\n",
    "#\n",
    "# See also DISTORTIONEXAMPLE, ROUND, CEIL, FLOOR, FIX\n",
    "\n",
    "def bitReduction(x, nBits):\n",
    "    # Determine the desired number of possible amplitude values\n",
    "    ampValues = pow(2, nBits)\n",
    "\n",
    "    # Shrink the full-scale signal (-1 to 1, peak-to-peak) to fit\n",
    "    # within range of 0 to 1\n",
    "    prepInput = 0.5 * x + 0.5\n",
    "\n",
    "    # Scale the signal to fit within the range of the possible values\n",
    "    scaleInput = ampValues * prepInput\n",
    "\n",
    "    # Round the signal to the nearest integers\n",
    "    roundInput = np.round(scaleInput)\n",
    "\n",
    "    # Invert the scaling to fit the original range\n",
    "    prepOut = roundInput/ampValues\n",
    "\n",
    "    # Fit in full-scale range\n",
    "    y = 2 * prepOut - 1\n",
    "\n",
    "    return y"
   ],
   "metadata": {
    "collapsed": false,
    "pycharm": {
     "name": "#%%\n"
    }
   }
  },
  {
   "cell_type": "code",
   "execution_count": 38,
   "outputs": [],
   "source": [
    "# ASYMMETRICAL\n",
    "# This function creates a distortion effect that is neither 'even' or 'odd'.\n",
    "# Therefore, the resulting signal has both even and odd harmonics.\n",
    "#\n",
    "# Input variables\n",
    "#   x: input signal\n",
    "#   dc: offset amount\n",
    "#\n",
    "# See also CUBICDISTORTION, DISTORTIONEXAMPLE\n",
    "\n",
    "def asymmetrical(x, dc):\n",
    "    N = len(x)\n",
    "    xOffset = x + dc # introduce DC offset\n",
    "    yOffset = np.zeros([N, 1])\n",
    "\n",
    "    for n in range(N):\n",
    "        if np.abs(xOffset[n]) > 1:\n",
    "            # Conditional to ensure 'out' is a monotonically increasing function\n",
    "            xOffset[n] = np.sign(xOffset[n])\n",
    "\n",
    "        # Nonlinear distortion function\n",
    "        yOffset[n] = xOffset[n] - (1/5) * pow(xOffset[n], 5)\n",
    "\n",
    "    y = yOffset - dc # remove DC offset\n",
    "\n",
    "    return y\n"
   ],
   "metadata": {
    "collapsed": false,
    "pycharm": {
     "name": "#%%\n"
    }
   }
  },
  {
   "cell_type": "code",
   "execution_count": 49,
   "outputs": [
    {
     "data": {
      "text/plain": "<Figure size 432x288 with 2 Axes>",
      "image/png": "[encoded data removed]"
     },
     "metadata": {
      "needs_background": "light"
     },
     "output_type": "display_data"
    }
   ],
   "source": [
    "# DISTORTIONEXAMPLE\n",
    "# This script is used to test various distortion functions. Each algorithm\n",
    "# can be analyzed by 'uncommenting' the code under each section. The waveform\n",
    "# and characteristic curve is plotted for each function.\n",
    "\n",
    "Fs = 48000\n",
    "Ts = 1/Fs\n",
    "f = 2\n",
    "t = np.arange(0, Fs * 1) * Ts\n",
    "\n",
    "x = np.sin(2 * np.pi * f * t) # used as input signal for each distortion\n",
    "\n",
    "# # Infinite clipping\n",
    "# y = infiniteClip(x)\n",
    "\n",
    "# # Half-wave rectification\n",
    "# y = halfWaveRectification(x)\n",
    "\n",
    "# # Full-wave Rectification\n",
    "# y = fullWaveRectification(x)\n",
    "\n",
    "# # Hard-clipping\n",
    "# thresh = 0.5\n",
    "# y = hardClipping(x, thresh)\n",
    "\n",
    "# # Cubic soft-clipping\n",
    "# a = 1\n",
    "# y = cubicDistortion(x, alpha)\n",
    "\n",
    "# # Arctangent distortion\n",
    "# alpha = 5\n",
    "# y = arctanDistortion(x, alpha)\n",
    "\n",
    "# # Sine distortion\n",
    "# y = np.sin((np.pi/2) * x)\n",
    "\n",
    "# # Exponential soft-clipping\n",
    "# drive = 4\n",
    "# y = exponential(x, drive)\n",
    "\n",
    "# # Piece-wise overdrive\n",
    "# y = piecewise(x)\n",
    "\n",
    "# # Diode clipping\n",
    "# y = diode(x)\n",
    "\n",
    "# # Asymmetrical distortion\n",
    "# dc = -0.25\n",
    "# y = asymmetrical(x, dc)\n",
    "\n",
    "# # Bit crushing\n",
    "# nBits = 8\n",
    "# y = bitReduction(x, nBits)\n",
    "\n",
    "# Dither Noise\n",
    "dither = 0.003 * np.random.randn(np.size(x))\n",
    "nBits = 4\n",
    "y = bitReduction(x + dither, nBits)\n",
    "\n",
    "# Plotting\n",
    "plt.figure(1)\n",
    "plt.subplot(1,2,1) # Waveform\n",
    "plt.plot(t, x, t, y)\n",
    "plt.axis([0, 1, -1.1, 1.1])\n",
    "plt.xlabel('Time (sec.)')\n",
    "plt.ylabel('Amplitude')\n",
    "plt.title('Waveform')\n",
    "\n",
    "plt.subplot(1,2,2) # Characteristic Curve\n",
    "plt.plot(x, x, x, y)\n",
    "plt.axis([-1, 1, -1.1, 1.1])\n",
    "plt.xlabel('Input Amplitude')\n",
    "plt.ylabel('Output Amplitude')\n",
    "plt.legend(['Legend', 'Distortion'])\n",
    "plt.title('Characteristic Curve')\n",
    "plt.show()"
   ],
   "metadata": {
    "collapsed": false,
    "pycharm": {
     "name": "#%%\n"
    }
   }
  },
  {
   "cell_type": "code",
   "execution_count": 52,
   "outputs": [],
   "source": [
    "# PARALLEL DISTORTION\n",
    "# This script demonstrates how to create parallel distortion. It allows for the\n",
    "# 'dry' unprocessed signal to be blended with the 'wet' processed signal.\n",
    "#\n",
    "# See also ARCTANDISTORTION\n",
    "\n",
    "[x, Fs] = soundfile.read('sw20.wav')\n",
    "\n",
    "# Alpha - amount of distortion\n",
    "alpha = 8\n",
    "\n",
    "# Wet path - distortion\n",
    "dist = arctanDistortion(x, alpha)\n",
    "\n",
    "# Pick an arbitrary 'wet/dry mix' value\n",
    "mix = 50 # Experiment with values from 0-100\n",
    "\n",
    "# Convert to a linear gain value\n",
    "g = mix/100\n",
    "\n",
    "# Add together 'wet/dry' signals\n",
    "y = g * dist + (1 - g) * x\n",
    "\n",
    "# Listen to result\n",
    "Audio(y, rate=Fs)"
   ],
   "metadata": {
    "collapsed": false,
    "pycharm": {
     "name": "#%%\n"
    }
   }
  }
 ],
 "metadata": {
  "kernelspec": {
   "display_name": "Python 3",
   "language": "python",
   "name": "python3"
  },
  "language_info": {
   "codemirror_mode": {
    "name": "ipython",
    "version": 2
   },
   "file_extension": ".py",
   "mimetype": "text/x-python",
   "name": "python",
   "nbconvert_exporter": "python",
   "pygments_lexer": "ipython2",
   "version": "2.7.6"
  }
 },
 "nbformat": 4,
 "nbformat_minor": 0
}