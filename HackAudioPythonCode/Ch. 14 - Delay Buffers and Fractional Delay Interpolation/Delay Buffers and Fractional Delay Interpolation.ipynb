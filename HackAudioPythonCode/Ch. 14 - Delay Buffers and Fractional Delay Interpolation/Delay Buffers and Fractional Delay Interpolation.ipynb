{
 "cells": [
  {
   "cell_type": "code",
   "execution_count": 1,
   "metadata": {
    "collapsed": true
   },
   "outputs": [],
   "source": [
    "from scipy import signal\n",
    "import numpy as np\n",
    "import matplotlib.pyplot as plt\n",
    "import soundfile as sf"
   ]
  },
  {
   "cell_type": "code",
   "execution_count": 13,
   "outputs": [
    {
     "name": "stdout",
     "output_type": "stream",
     "text": [
      "['For sample ', '0', ' the output is: ', '0.0']\n",
      "['For sample ', '0', ' the buffer is: ', '[1. 0. 0. 0. 0.]']\n",
      "['For sample ', '1', ' the output is: ', '0.0']\n",
      "['For sample ', '1', ' the buffer is: ', '[-1.  1.  0.  0.  0.]']\n",
      "['For sample ', '2', ' the output is: ', '0.0']\n",
      "['For sample ', '2', ' the buffer is: ', '[ 2. -1.  1.  0.  0.]']\n",
      "['For sample ', '3', ' the output is: ', '0.0']\n",
      "['For sample ', '3', ' the buffer is: ', '[-2.  2. -1.  1.  0.]']\n",
      "['For sample ', '4', ' the output is: ', '0.0']\n",
      "['For sample ', '4', ' the buffer is: ', '[ 0. -2.  2. -1.  1.]']\n",
      "['For sample ', '5', ' the output is: ', '1.0']\n",
      "['For sample ', '5', ' the buffer is: ', '[ 0.  0. -2.  2. -1.]']\n",
      "['For sample ', '6', ' the output is: ', '-1.0']\n",
      "['For sample ', '6', ' the buffer is: ', '[ 0.  0.  0. -2.  2.]']\n",
      "['For sample ', '7', ' the output is: ', '2.0']\n",
      "['For sample ', '7', ' the buffer is: ', '[ 0.  0.  0.  0. -2.]']\n",
      "['For sample ', '8', ' the output is: ', '-2.0']\n",
      "['For sample ', '8', ' the buffer is: ', '[0. 0. 0. 0. 0.]']\n",
      "['For sample ', '9', ' the output is: ', '0.0']\n",
      "['For sample ', '9', ' the buffer is: ', '[0. 0. 0. 0. 0.]']\n",
      "['The original signal was: ', '[ 1. -1.  2. -2.  0.  0.  0.  0.  0.  0.]']\n",
      "['The final output signal is: ', '[ 0.  0.  0.  0.  0.  1. -1.  2. -2.  0.]']\n"
     ]
    }
   ],
   "source": [
    "# SIMPLELINEARBUFFER\n",
    "# This script demonstrates the basics of creating a linear buffer.\n",
    "# An input signal is processed by a loop to index the 'current' sample\n",
    "# and store it in the delay buffer. Each time through the loop the delay\n",
    "# buffer is shifted to make room for a new sample. The output of the\n",
    "# process is determined by indexing an element at the end of the delay\n",
    "# buffer.\n",
    "#\n",
    "# Execution of the script is set to 'pause' during the iteration to allow\n",
    "# a user to view the contents of the delay buffer during each step.\n",
    "#\n",
    "# See also DELAYBUFFEREXAMPLE\n",
    "\n",
    "x = np.append(np.array([1, -1, 2, -2]), np.zeros([6]))\n",
    "# Buffer should be initialized without any value\n",
    "# Length of buffer = 5, output is indexed from end of buffer.\n",
    "# Therefore, a delay of 5 samples is created\n",
    "buffer = np.zeros([5])\n",
    "\n",
    "N = np.size(x)\n",
    "out = np.zeros([N])\n",
    "\n",
    "for n in range(N):\n",
    "    # Read the output at the curretn time sample\n",
    "    # from the end of the delay buffer\n",
    "    out[n] = buffer[-1]\n",
    "    np.disp(['For sample ', str(n), ' the output is: ', str(out[n])])\n",
    "\n",
    "    # Shift each value in the buffer by one element\n",
    "    # to make room for the current sample to be stored\n",
    "    # in the first element\n",
    "    buffer = np.append(x[n], buffer[0:-1])\n",
    "    # buffer[0, 1:] = buffer[0, 0:-1]\n",
    "    # buffer[0, 0] = x[0, n]\n",
    "    np.disp(['For sample ', str(n), ' the buffer is: ', str(buffer)])\n",
    "\n",
    "# Compare the input and output signals\n",
    "np.disp(['The original signal was: ', str(x)])\n",
    "np.disp(['The final output signal is: ', str(out)])"
   ],
   "metadata": {
    "collapsed": false,
    "pycharm": {
     "name": "#%%\n"
    }
   }
  },
  {
   "cell_type": "code",
   "execution_count": 14,
   "outputs": [
    {
     "name": "stdout",
     "output_type": "stream",
     "text": [
      "Series Delay: 5 samples\n",
      "out(n) = x(n-5)\n",
      "['The orig. input signal was: ', '[ 1. -1.  2. -2.  0.  0.  0.  0.  0.  0.]']\n",
      "['The final output signal is: ', '[ 0.  0.  0.  0.  0.  1. -1.  2. -2.  0.]']\n",
      "Feed-forward Delay: 3 samples\n",
      "out(n) = x(n) + x(n-3)\n",
      "['The orig. input signal was: ', '[ 1. -1.  2. -2.  0.  0.  0.  0.  0.  0.]']\n",
      "['The final output signal is: ', '[ 1. -1.  2. -1. -1.  2. -2.  0.  0.  0.]']\n",
      "Feedback Delay: 3 samples\n",
      "out(n) = x(n) + out(n-3)\n",
      "['The orig. input signal was: ', '[ 1. -1.  2. -2.  0.  0.  0.  0.  0.  0.]']\n",
      "['The final output signal is: ', '[ 1. -1.  2. -1. -1.  2. -1. -1.  2. -1.]']\n"
     ]
    }
   ],
   "source": [
    "# DELAYBUFFEREXAMPLES\n",
    "# This script demonstrates several examples of creating different types (FIR, IIR)\n",
    "# of systems by using a delay buffer.\n",
    "#\n",
    "# See also SIMPLELINEARBUFFER\n",
    "\n",
    "x = np.append(np.array([1, -1, 2, -2]), np.zeros([6]))\n",
    "buffer = np.zeros([20]) # longer buffer than delay length\n",
    "\n",
    "# Number of samples of delay\n",
    "delay = 5 # does not need to be same length as buffer\n",
    "\n",
    "N = np.size(x)\n",
    "out = np.zeros([N])\n",
    "\n",
    "# Series Delay\n",
    "for n in range(N):\n",
    "    out[n] = buffer[delay-1]\n",
    "\n",
    "    buffer = np.append(x[n], buffer[0:-1])\n",
    "    # buffer[0, 1:] = buffer[0, 0:-1]\n",
    "    # buffer[0, 0] = x[0, n]\n",
    "\n",
    "# Compare input & output signals\n",
    "np.disp('Series Delay: 5 samples')\n",
    "np.disp('out(n) = x(n-5)')\n",
    "np.disp(['The orig. input signal was: ', str(x)])\n",
    "np.disp(['The final output signal is: ', str(out)])\n",
    "\n",
    "# Feedforward (FIR) system\n",
    "out = np.zeros([N])\n",
    "buffer = np.zeros([20])\n",
    "delay = 3 # Number of samples of delay\n",
    "\n",
    "# Parallel delay line\n",
    "for n in range(N):\n",
    "    out[n] = x[n] + buffer[delay-1]\n",
    "\n",
    "    buffer = np.append(x[n], buffer[0:-1])\n",
    "    # buffer[0, 1:] = buffer[0, 0:-1]\n",
    "    # buffer[0, 0] = x[0, n]\n",
    "\n",
    "np.disp('Feed-forward Delay: 3 samples')\n",
    "np.disp('out(n) = x(n) + x(n-3)')\n",
    "np.disp(['The orig. input signal was: ', str(x)])\n",
    "np.disp(['The final output signal is: ', str(out)])\n",
    "\n",
    "# Feedback (IIR) system\n",
    "out = np.zeros([N])\n",
    "buffer = np.zeros([20])\n",
    "\n",
    "for n in range(N):\n",
    "    out[n] = x[n] + buffer[delay-1]\n",
    "\n",
    "    buffer = np.append(out[n], buffer[0:-1])\n",
    "    # buffer[0, 1:] = buffer[0, 0:-1]\n",
    "    # buffer[0, 0] = out[0, n]\n",
    "\n",
    "np.disp('Feedback Delay: 3 samples')\n",
    "np.disp('out(n) = x(n) + out(n-3)')\n",
    "np.disp(['The orig. input signal was: ', str(x)])\n",
    "np.disp(['The final output signal is: ', str(out)])"
   ],
   "metadata": {
    "collapsed": false,
    "pycharm": {
     "name": "#%%\n"
    }
   }
  },
  {
   "cell_type": "code",
   "execution_count": 4,
   "outputs": [],
   "source": [
    "# FEEDBACKDELAY\n",
    "# This function performs feedback delay by processing an individual input sample\n",
    "# and updating a delay buffer used in a loop to index each sample in a signal.\n",
    "#\n",
    "# Additional input variables\n",
    "#   delay: samples of delay\n",
    "#   fbGain: feedback gain (linear scale)\n",
    "\n",
    "def feedbackDelay(x, buffer, delay, fbGain):\n",
    "    out = x + fbGain * buffer[delay-1]\n",
    "\n",
    "    # Store the current output in appropriate index\n",
    "    buffer = np.append(out, buffer[0:-1])\n",
    "\n",
    "    return out, buffer"
   ],
   "metadata": {
    "collapsed": false,
    "pycharm": {
     "name": "#%%\n"
    }
   }
  },
  {
   "cell_type": "code",
   "execution_count": 5,
   "outputs": [
    {
     "name": "stdout",
     "output_type": "stream",
     "text": [
      "Feedback Delay: 5 samples\n",
      "['The orig. input signal was: ', '[[ 1.]\\n [-1.]\\n [ 2.]\\n [-2.]\\n [ 0.]\\n [ 0.]\\n [ 0.]\\n [ 0.]\\n [ 0.]\\n [ 0.]]']\n",
      "['The final output signal is: ', '[ 1.  -1.   2.  -2.   0.   0.5 -0.5  1.  -1.   0. ]']\n"
     ]
    }
   ],
   "source": [
    "# FEEDBACKDELAYEXAMPLE\n",
    "# This script calls the feedback delay function and passes in the delay buffer.\n",
    "#\n",
    "# See also FEEDBACKDELAY\n",
    "\n",
    "x = np.append(np.array([1, -1, 2, -2]), np.zeros([6])) # Input signal\n",
    "x = np.vstack(x)\n",
    "# Longer buffer than delay length to demonstrate delay\n",
    "# doesn't just have to be the 'end' of the buffer.\n",
    "buffer = np.zeros([20])\n",
    "\n",
    "# Number of samples of delay\n",
    "delay = 5\n",
    "\n",
    "# Feedback gain coefficient\n",
    "fbGain = 0.5\n",
    "\n",
    "# Initialize output vector\n",
    "N = len(x)\n",
    "out = np.zeros([N])\n",
    "\n",
    "# Series delay\n",
    "for n in range(N):\n",
    "    # Pass 'buffer' into feedbackDelay function\n",
    "    out[n], buffer = feedbackDelay(x[n], buffer, delay, fbGain)\n",
    "    # Return updated 'buffer' for next loop iteration\n",
    "\n",
    "# Print and compare input and output signals\n",
    "np.disp('Feedback Delay: 5 samples')\n",
    "np.disp(['The orig. input signal was: ', str(x)])\n",
    "np.disp(['The final output signal is: ', str(out)])"
   ],
   "metadata": {
    "collapsed": false,
    "pycharm": {
     "name": "#%%\n"
    }
   }
  },
  {
   "cell_type": "code",
   "execution_count": 7,
   "outputs": [],
   "source": [
    "# CIRCULARBUFFER\n",
    "# This function performs series delay and uses a circular buffer. Rather than\n",
    "# shifting all the values in the array buffer during each iteration, the index\n",
    "# changes each time through based on the current sample, 'n'.\n",
    "#\n",
    "# Additional input variables\n",
    "#   delay: samples of delay\n",
    "#   n: current sample number used for circular buffer\n",
    "\n",
    "def circularBuffer(x, buffer, delay, n):\n",
    "    # Determine indexes for circular buffer\n",
    "    N = len(buffer)\n",
    "    indexC = np.mod(n-1, N)  # current index in circular buffer\n",
    "    indexD = np.mod(n-delay-1, N)  # delay index in circular buffer\n",
    "\n",
    "    out = buffer[indexD]\n",
    "    # Store current output in appropriate index\n",
    "    buffer[indexC] = x\n",
    "\n",
    "    return out, buffer\n"
   ],
   "metadata": {
    "collapsed": false,
    "pycharm": {
     "name": "#%%\n"
    }
   }
  },
  {
   "cell_type": "code",
   "execution_count": 8,
   "outputs": [
    {
     "name": "stdout",
     "output_type": "stream",
     "text": [
      "['The current sample number is: ', '0']\n",
      "['The current buffer index is: ', '5']\n",
      "['The current delay index is: ', '1']\n",
      "['The input is: ', '1']\n",
      "['The delay buffer is: [', '[0. 0. 0. 0. 0. 1.]', ']']\n",
      "['The output is: ', '[0. 0. 0. 0. 0. 0. 0. 0. 0. 0.]']\n",
      "['The current sample number is: ', '1']\n",
      "['The current buffer index is: ', '0']\n",
      "['The current delay index is: ', '2']\n",
      "['The input is: ', '-1']\n",
      "['The delay buffer is: [', '[-1.  0.  0.  0.  0.  1.]', ']']\n",
      "['The output is: ', '[0. 0. 0. 0. 0. 0. 0. 0. 0. 0.]']\n",
      "['The current sample number is: ', '2']\n",
      "['The current buffer index is: ', '1']\n",
      "['The current delay index is: ', '3']\n",
      "['The input is: ', '2']\n",
      "['The delay buffer is: [', '[-1.  2.  0.  0.  0.  1.]', ']']\n",
      "['The output is: ', '[0. 0. 0. 0. 0. 0. 0. 0. 0. 0.]']\n",
      "['The current sample number is: ', '3']\n",
      "['The current buffer index is: ', '2']\n",
      "['The current delay index is: ', '4']\n",
      "['The input is: ', '-2']\n",
      "['The delay buffer is: [', '[-1.  2. -2.  0.  0.  1.]', ']']\n",
      "['The output is: ', '[0. 0. 0. 0. 0. 0. 0. 0. 0. 0.]']\n",
      "['The current sample number is: ', '4']\n",
      "['The current buffer index is: ', '3']\n",
      "['The current delay index is: ', '5']\n",
      "['The input is: ', '3']\n",
      "['The delay buffer is: [', '[-1.  2. -2.  3.  0.  1.]', ']']\n",
      "['The output is: ', '[0. 0. 0. 0. 1. 0. 0. 0. 0. 0.]']\n",
      "['The current sample number is: ', '5']\n",
      "['The current buffer index is: ', '4']\n",
      "['The current delay index is: ', '0']\n",
      "['The input is: ', '0']\n",
      "['The delay buffer is: [', '[-1.  2. -2.  3.  0.  1.]', ']']\n",
      "['The output is: ', '[ 0.  0.  0.  0.  1. -1.  0.  0.  0.  0.]']\n",
      "['The current sample number is: ', '6']\n",
      "['The current buffer index is: ', '5']\n",
      "['The current delay index is: ', '1']\n",
      "['The input is: ', '0']\n",
      "['The delay buffer is: [', '[-1.  2. -2.  3.  0.  0.]', ']']\n",
      "['The output is: ', '[ 0.  0.  0.  0.  1. -1.  2.  0.  0.  0.]']\n",
      "['The current sample number is: ', '7']\n",
      "['The current buffer index is: ', '0']\n",
      "['The current delay index is: ', '2']\n",
      "['The input is: ', '0']\n",
      "['The delay buffer is: [', '[ 0.  2. -2.  3.  0.  0.]', ']']\n",
      "['The output is: ', '[ 0.  0.  0.  0.  1. -1.  2. -2.  0.  0.]']\n",
      "['The current sample number is: ', '8']\n",
      "['The current buffer index is: ', '1']\n",
      "['The current delay index is: ', '3']\n",
      "['The input is: ', '0']\n",
      "['The delay buffer is: [', '[ 0.  0. -2.  3.  0.  0.]', ']']\n",
      "['The output is: ', '[ 0.  0.  0.  0.  1. -1.  2. -2.  3.  0.]']\n",
      "['The current sample number is: ', '9']\n",
      "['The current buffer index is: ', '2']\n",
      "['The current delay index is: ', '4']\n",
      "['The input is: ', '0']\n",
      "['The delay buffer is: [', '[0. 0. 0. 3. 0. 0.]', ']']\n",
      "['The output is: ', '[ 0.  0.  0.  0.  1. -1.  2. -2.  3.  0.]']\n"
     ]
    }
   ],
   "source": [
    "# CIRCULARBUFFEREXAMPLE\n",
    "# This script tests a circular buffer function and demonstrates how it works.\n",
    "#\n",
    "# See also CIRCULARBUFFER\n",
    "\n",
    "x = np.append(np.array([1, -1, 2, -2, 3]), np.zeros(5))\n",
    "\n",
    "buffer = np.zeros(6)\n",
    "\n",
    "# Number of samples of delay\n",
    "delay = 4\n",
    "\n",
    "N = len(x)\n",
    "out = np.zeros(N)\n",
    "\n",
    "# Series delay\n",
    "for n in range(N):\n",
    "    out[n], buffer = circularBuffer(x[n], buffer, delay, n)\n",
    "\n",
    "    # Display current status values\n",
    "    np.disp(['The current sample number is: ', str(n)])\n",
    "    np.disp(['The current buffer index is: ', str(np.mod(n-1, 6))])\n",
    "    np.disp(['The current delay index is: ', str(np.mod(n-delay-1, 6))])\n",
    "    np.disp(['The input is: ', str(x[n])])\n",
    "    np.disp(['The delay buffer is: [', str(buffer), ']'])\n",
    "    np.disp(['The output is: ', str(out)])"
   ],
   "metadata": {
    "collapsed": false,
    "pycharm": {
     "name": "#%%\n"
    }
   }
  },
  {
   "cell_type": "code",
   "execution_count": 18,
   "outputs": [
    {
     "name": "stdout",
     "output_type": "stream",
     "text": [
      "['The orig. input signal was: ', '[1. 0. 0. 0. 0. 0. 0. 0. 0. 0.]']\n",
      "['The final output signal is: ', '[0.  0.  0.  0.8 0.2 0.  0.  0.  0.  0. ]']\n"
     ]
    }
   ],
   "source": [
    "# LINEARINTERPOLATIONDELAY\n",
    "# This script demonstrates how to introduce a fractional (non-integer) delay.\n",
    "# Linear interpolation is used to estimate an amplitude value in between\n",
    "# adjacent samples.\n",
    "\n",
    "x = np.append(1, np.zeros(9)) # Horizontal for displaying in command window\n",
    "\n",
    "fracDelay = 3.2 # Fractional delay length in samples\n",
    "intDelay = int(np.floor(fracDelay)) # Round down to get the previous (3)\n",
    "frac = fracDelay - intDelay # Find the fractional amount (0.2)\n",
    "\n",
    "buffer = np.zeros(5) # len(buffer) >= ceil(fracDelay)\n",
    "N = len(x)\n",
    "\n",
    "out = np.zeros(N)\n",
    "\n",
    "# Series Fractional Delay\n",
    "for n in range(N):\n",
    "    out[n] = (1-frac) * buffer[intDelay-1] + frac * buffer[intDelay]\n",
    "\n",
    "    buffer = np.append(x[n], buffer[0:-1])\n",
    "    # buffer[1:] = buffer[0:-1]\n",
    "    # buffer[0] = x[n]\n",
    "\n",
    "# Compare the input and output signals\n",
    "np.disp(['The orig. input signal was: ', str(x)])\n",
    "np.disp(['The final output signal is: ', str(out)])"
   ],
   "metadata": {
    "collapsed": false,
    "pycharm": {
     "name": "#%%\n"
    }
   }
  },
  {
   "cell_type": "code",
   "execution_count": 3,
   "outputs": [
    {
     "name": "stdout",
     "output_type": "stream",
     "text": [
      "['The orig. input signal was: ', '[1. 0. 0. 0. 0. 0. 0. 0. 0. 0.]']\n",
      "['The final output signal is: ', '[ 0.     0.    -0.128  0.928  0.232 -0.032  0.     0.     0.     0.   ]']\n"
     ]
    },
    {
     "data": {
      "text/plain": "[<matplotlib.lines.Line2D at 0x7fbf751295e0>]"
     },
     "execution_count": 3,
     "metadata": {},
     "output_type": "execute_result"
    },
    {
     "data": {
      "text/plain": "<Figure size 432x288 with 1 Axes>",
      "image/png": "[encoded data removed]"
     },
     "metadata": {
      "needs_background": "light"
     },
     "output_type": "display_data"
    }
   ],
   "source": [
    "# CUBICINTERPOLATIONDELAY\n",
    "# This script demonstrates how to introduce a fractional (non-linear) delay.\n",
    "# Cubic interpolation is used to estimate an amplitude value in-between\n",
    "# adjacent samples.\n",
    "\n",
    "x = np.append(1, np.zeros(9))\n",
    "\n",
    "fracDelay = 3.2 # Fractional delay length in samples\n",
    "intDelay = int(np.floor(fracDelay)) # Round down to get the previous (3)\n",
    "frac = fracDelay - intDelay # Find the fractional amount (0.2)\n",
    "\n",
    "buffer = np.zeros(5) # len(buffer) >= ceil(fracDelay) + 1\n",
    "N = len(x)\n",
    "\n",
    "out = np.zeros(N)\n",
    "# Series fractional delay\n",
    "for n in range(N):\n",
    "    # Calculate intermediate variable for cubic interpolation\n",
    "    a0 = buffer[intDelay+1] - buffer[intDelay] - buffer[intDelay-2] + buffer[intDelay-1]\n",
    "    a1 = buffer[intDelay-2] - buffer[intDelay-1] - a0\n",
    "    a2 = buffer[intDelay] - buffer[intDelay-2]\n",
    "    a3 = buffer[intDelay-1]\n",
    "    out[n] = a0 * pow(frac, 3) + a1 * pow(frac, 2) + a2 * frac + a3\n",
    "\n",
    "    buffer = np.append(x[n], buffer[ 0:-1]) # Shift buffer\n",
    "    # buffer[1:] = buffer[0:-1]\n",
    "    # buffer[0] = x[n]\n",
    "\n",
    "# Compare input and output signals\n",
    "np.disp(['The orig. input signal was: ', str(x)])\n",
    "np.disp(['The final output signal is: ', str(out)])\n",
    "\n",
    "plt.plot(out)\n",
    "# Observe in this plot that the impulse at sample n=1 is delayed by 3.2\n",
    "# samples. Therefore, the output signal should have an impulse at time 4.2\n",
    "# samples. With cubic interpolation this impulse contributes to the amplitude\n",
    "# of the output signal at samples 3, 4, 5, 6. The result of cubic\n",
    "# interpolation is a closer approximation to the underlying (smooth)\n",
    "# continuous signal than linear interpolation.\n"
   ],
   "metadata": {
    "collapsed": false,
    "pycharm": {
     "name": "#%%\n"
    }
   }
  }
 ],
 "metadata": {
  "kernelspec": {
   "display_name": "Python 3",
   "language": "python",
   "name": "python3"
  },
  "language_info": {
   "codemirror_mode": {
    "name": "ipython",
    "version": 2
   },
   "file_extension": ".py",
   "mimetype": "text/x-python",
   "name": "python",
   "nbconvert_exporter": "python",
   "pygments_lexer": "ipython2",
   "version": "2.7.6"
  }
 },
 "nbformat": 4,
 "nbformat_minor": 0
}