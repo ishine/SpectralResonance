{
 "cells": [
  {
   "cell_type": "code",
   "execution_count": 4,
   "metadata": {
    "collapsed": true
   },
   "outputs": [
    {
     "name": "stdout",
     "output_type": "stream",
     "text": [
      "True\n",
      "False\n",
      "True\n",
      "False\n",
      "True\n"
     ]
    }
   ],
   "source": [
    "print(5 == 5)\n",
    "print(4 == 5)\n",
    "print(4 < 5)\n",
    "print(4 > 5)\n",
    "print(4 != 5)"
   ]
  },
  {
   "cell_type": "code",
   "execution_count": 7,
   "outputs": [],
   "source": [
    "# Conditional Statements\n",
    "TT = 2\n",
    "if TT == 2:\n",
    "    SS = 3\n",
    "\n",
    "if TT == 0:\n",
    "    RR = 3\n",
    "\n",
    "if TT > 1:\n",
    "    QQ = 3\n",
    "\n",
    "if TT < 1:\n",
    "    PP = 3\n",
    "\n",
    "num = -1\n",
    "if num > 0:\n",
    "    gtz = True\n",
    "else:\n",
    "    gtz = False\n",
    "\n",
    "if num > 0:\n",
    "    gtz = True\n",
    "elif num < 0:\n",
    "    ltz = True\n",
    "else:\n",
    "    zero = True\n",
    "\n",
    "new_num = 0\n",
    "if new_num > 0:\n",
    "    gtz = True\n",
    "elif num < 0:\n",
    "    ltz = True\n",
    "else:\n",
    "    zero = True"
   ],
   "metadata": {
    "collapsed": false,
    "pycharm": {
     "name": "#%%\n"
    }
   }
  },
  {
   "cell_type": "code",
   "execution_count": null,
   "outputs": [],
   "source": [
    "# Switch Statement\n",
    "a = 5\n",
    "switch = {\n",
    "    1: -5,\n",
    "    2: 5,\n",
    "}"
   ],
   "metadata": {
    "collapsed": false,
    "pycharm": {
     "name": "#%%\n"
    }
   }
  }
 ],
 "metadata": {
  "kernelspec": {
   "display_name": "Python 3",
   "language": "python",
   "name": "python3"
  },
  "language_info": {
   "codemirror_mode": {
    "name": "ipython",
    "version": 2
   },
   "file_extension": ".py",
   "mimetype": "text/x-python",
   "name": "python",
   "nbconvert_exporter": "python",
   "pygments_lexer": "ipython2",
   "version": "2.7.6"
  }
 },
 "nbformat": 4,
 "nbformat_minor": 0
}