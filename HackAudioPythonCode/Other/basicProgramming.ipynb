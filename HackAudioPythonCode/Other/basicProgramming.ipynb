{
 "cells": [
  {
   "cell_type": "code",
   "execution_count": 7,
   "metadata": {
    "collapsed": true
   },
   "outputs": [],
   "source": [
    "import math\n",
    "import numpy as np"
   ]
  },
  {
   "cell_type": "code",
   "execution_count": null,
   "outputs": [],
   "source": [
    "a = 2 + 3\n",
    "b = 2 - 3\n",
    "c = 2 * 3\n",
    "d = 2 / 3\n",
    "e = 10 + 8 / 2\n",
    "f = (10 + 8) / 2\n",
    "g = pow(2, 3)"
   ],
   "metadata": {
    "collapsed": false,
    "pycharm": {
     "name": "#%%\n"
    }
   }
  },
  {
   "cell_type": "code",
   "execution_count": null,
   "outputs": [],
   "source": [
    "x = 1\n",
    "# Square Root\n",
    "math.sqrt(x)\n",
    "np.sqrt(x)\n",
    "# Sine\n",
    "math.sin(x)\n",
    "np.sin(x)\n",
    "# Arc Sine\n",
    "math.asin(x)\n",
    "np.arcsin(x)\n",
    "# Cosine\n",
    "math.cos(x)\n",
    "np.cos(x)\n",
    "# Arc Cosine\n",
    "math.acos(x)\n",
    "np.arccos(x)\n",
    "# Tangent\n",
    "math.tan(x)\n",
    "np.tan(x)\n",
    "# Arc Tangent\n",
    "math.atan(x)\n",
    "np.arctan(x)\n",
    "# Natural Number e^x\n",
    "math.exp(x)\n",
    "np.exp(x)\n",
    "# Natural Logarithm\n",
    "math.log(x)\n",
    "np.log(x)\n",
    "# Base 10 Logarithm\n",
    "math.log10(x)\n",
    "np.log10(x)\n",
    "# Base 2 Logarithm\n",
    "math.log2(x)\n",
    "np.log2(x)\n",
    "# Maximum Value\n",
    "max(x)\n",
    "np.max(x)\n",
    "# Minimum Value\n",
    "min(x)\n",
    "np.min(x)\n",
    "# Absolute Value\n",
    "abs(x)\n",
    "np.abs(x)\n",
    "# Signum Function\n",
    "np.sign(x)\n",
    "# Round to Nearest Integer\n",
    "round(x)\n",
    "np.round(x)\n",
    "# Round towards 0\n",
    "np.fix(x)\n",
    "# Round towards +inf\n",
    "math.ceil(x)\n",
    "np.ceil(x)\n",
    "# Round towards -inf\n",
    "math.floor(x)\n",
    "np.floor(x)\n",
    "# Complex Conjugate\n",
    "np.conj(x)"
   ],
   "metadata": {
    "collapsed": false,
    "pycharm": {
     "name": "#%%\n"
    }
   }
  },
  {
   "cell_type": "code",
   "execution_count": 11,
   "outputs": [
    {
     "name": "stdout",
     "output_type": "stream",
     "text": [
      "[ 0.          1.42857143  2.85714286  4.28571429  5.71428571  7.14285714\n",
      "  8.57142857 10.        ]\n"
     ]
    }
   ],
   "source": [
    "# np.linspace(firstElement, lastElement, numberOfElements)\n",
    "new_array = np.linspace(0, 10, num=8)\n",
    "print(new_array)"
   ],
   "metadata": {
    "collapsed": false,
    "pycharm": {
     "name": "#%%\n"
    }
   }
  },
  {
   "cell_type": "code",
   "execution_count": 16,
   "outputs": [
    {
     "name": "stdout",
     "output_type": "stream",
     "text": [
      "[   10.            21.5443469     46.41588834   100.\n",
      "   215.443469     464.15888336  1000.          2154.43469003\n",
      "  4641.58883361 10000.        ]\n"
     ]
    }
   ],
   "source": [
    "new_array = np.logspace(1, 4, num=10)\n",
    "print(new_array)"
   ],
   "metadata": {
    "collapsed": false,
    "pycharm": {
     "name": "#%%\n"
    }
   }
  },
  {
   "cell_type": "code",
   "execution_count": null,
   "outputs": [],
   "source": [
    "ones_array = np.ones(3,1)\n",
    "zeros_array = np.zeros(2,3)\n",
    "eye_array = np.eye(4)"
   ],
   "metadata": {
    "collapsed": false,
    "pycharm": {
     "name": "#%%\n"
    }
   }
  },
  {
   "cell_type": "code",
   "execution_count": 22,
   "outputs": [
    {
     "name": "stdout",
     "output_type": "stream",
     "text": [
      "[1, 2, 3, 4, 5]\n",
      "[1 2 3 4 5]\n",
      "([1, 2, 3], [4, 5, 6], [7, 8, 9])\n",
      "[[1 4 7]\n",
      " [2 5 8]\n",
      " [3 6 9]]\n"
     ]
    }
   ],
   "source": [
    "# Array Transposition\n",
    "x = [1, 2, 3, 4, 5]\n",
    "x_transposed = np.transpose(x)\n",
    "print(x)\n",
    "print(x_transposed)\n",
    "\n",
    "w = [1, 2, 3], [4, 5, 6], [7, 8, 9]\n",
    "print(w)\n",
    "w_transposed = np.transpose(w)\n",
    "print(w_transposed)"
   ],
   "metadata": {
    "collapsed": false,
    "pycharm": {
     "name": "#%%\n"
    }
   }
  },
  {
   "cell_type": "code",
   "execution_count": 31,
   "outputs": [
    {
     "name": "stdout",
     "output_type": "stream",
     "text": [
      "3\n",
      "2\n"
     ]
    }
   ],
   "source": [
    "# Array Dimensions\n",
    "y = np.ones([3, 2])\n",
    "[row, col] = y.shape\n",
    "print(row)\n",
    "print(col)"
   ],
   "metadata": {
    "collapsed": false,
    "pycharm": {
     "name": "#%%\n"
    }
   }
  }
 ],
 "metadata": {
  "kernelspec": {
   "display_name": "Python 3",
   "language": "python",
   "name": "python3"
  },
  "language_info": {
   "codemirror_mode": {
    "name": "ipython",
    "version": 2
   },
   "file_extension": ".py",
   "mimetype": "text/x-python",
   "name": "python",
   "nbconvert_exporter": "python",
   "pygments_lexer": "ipython2",
   "version": "2.7.6"
  }
 },
 "nbformat": 4,
 "nbformat_minor": 0
}